{
 "cells": [
  {
   "cell_type": "code",
   "execution_count": null,
   "id": "91024c76",
   "metadata": {},
   "outputs": [],
   "source": [
    "import torch\n",
    "from transformers import  CLIPModel\n",
    "import numpy as np\n",
    "from sklearn.metrics.pairwise import cosine_similarity\n",
    "from transformers import CLIPProcessor\n",
    "from torch.utils.data import DataLoader\n",
    "import json\n",
    "from torch.utils.data import Dataset\n",
    "from PIL import Image\n",
    "import os\n",
    "from tqdm import tqdm\n",
    "import time"
   ]
  },
  {
   "cell_type": "code",
   "execution_count": 11,
   "id": "d578b4b1",
   "metadata": {},
   "outputs": [],
   "source": [
    "train_dir = 'train'\n",
    "gallery_dir = 'test-2/gallery'\n",
    "query_dir = 'test-2/query'"
   ]
  },
  {
   "cell_type": "code",
   "execution_count": 12,
   "id": "5145641c",
   "metadata": {},
   "outputs": [],
   "source": [
    "class CLIPImageDataset(Dataset):\n",
    "    def __init__(self, image_dir, processor):\n",
    "        \"\"\"\n",
    "        image_dir: directory con immagini\n",
    "        processor: istanza di CLIPProcessor da Hugging Face\n",
    "        \"\"\"\n",
    "        self.image_dir = image_dir\n",
    "        self.image_paths = [\n",
    "            os.path.join(image_dir, fname)\n",
    "            for fname in os.listdir(image_dir)\n",
    "            if fname.lower().endswith(('.png', '.jpg', '.jpeg'))\n",
    "        ]\n",
    "        self.processor = processor\n",
    "\n",
    "    def __len__(self):\n",
    "        return len(self.image_paths)\n",
    "\n",
    "    def __getitem__(self, idx):\n",
    "        img_path = self.image_paths[idx]\n",
    "        image = Image.open(img_path).convert(\"RGB\")\n",
    "        \n",
    "        # Usa il processor CLIP per ottenere pixel_values\n",
    "        inputs = self.processor(images=image, return_tensors=\"pt\")\n",
    "        pixel_values = inputs[\"pixel_values\"].squeeze(0)  # Remove batch dim\n",
    "\n",
    "        return pixel_values, img_path  # Ritorna tensor e percorso per tracciamento"
   ]
  },
  {
   "cell_type": "code",
   "execution_count": null,
   "id": "a7d17522",
   "metadata": {},
   "outputs": [
    {
     "name": "stdout",
     "output_type": "stream",
     "text": [
      "CUDA available: False\n"
     ]
    }
   ],
   "source": [
    "print(\"CUDA available:\", torch.cuda.is_available())  # Stampa True o False\n",
    "\n",
    "if torch.cuda.is_available():\n",
    "    print(f\"GPU Memory: {torch.cuda.get_device_properties(0).total_memory / 1e9:.1f} GB\")\n",
    "    print(f\"GPU Memory allocated: {torch.cuda.memory_allocated() / 1e9:.2f} GB\")\n",
    "    print(f\"GPU Memory cached: {torch.cuda.memory_reserved() / 1e9:.2f} GB\")"
   ]
  },
  {
   "cell_type": "code",
   "execution_count": null,
   "id": "3a243e7f",
   "metadata": {},
   "outputs": [
    {
     "name": "stdout",
     "output_type": "stream",
     "text": [
      "2.7.0+cu126\n",
      "12.6\n"
     ]
    }
   ],
   "source": [
    "print(torch.__version__)\n",
    "print(torch.version.cuda)"
   ]
  },
  {
   "cell_type": "code",
   "execution_count": null,
   "id": "6add5cc1",
   "metadata": {},
   "outputs": [],
   "source": [
    "# Istanzia il processor di CLIP\n",
    "processor = CLIPProcessor.from_pretrained(\"openai/clip-vit-large-patch14-336\")\n",
    "device = \"cuda\" if torch.cuda.is_available() else \"cpu\"\n",
    "model = CLIPModel.from_pretrained(\"openai/clip-vit-large-patch14-336\").vision_model.to(device)  # solo parte visiva\n",
    "\n",
    "# Crea istanze del dataset aggiornato\n",
    "gallery_dataset = CLIPImageDataset(gallery_dir, processor=processor)\n",
    "query_dataset = CLIPImageDataset(query_dir, processor=processor)\n",
    "\n",
    "gallery_loader = DataLoader(gallery_dataset, batch_size=8, shuffle=False)  # era 32\n",
    "query_loader = DataLoader(query_dataset, batch_size=8, shuffle=False)"
   ]
  },
  {
   "cell_type": "code",
   "execution_count": null,
   "id": "898c6b78",
   "metadata": {},
   "outputs": [],
   "source": [
    "with torch.no_grad():\n",
    "    gallery_embeddings = []\n",
    "    query_embeddings = []\n",
    "    gallery_paths = []\n",
    "    query_paths = []\n",
    "\n",
    "    # Extract gallery embeddings con progress bar\n",
    "    print(\"Extracting gallery embeddings...\")\n",
    "    for i, (pixel_values, paths) in enumerate(tqdm(gallery_loader)):\n",
    "        start_time = time.time()\n",
    "        \n",
    "        pixel_values = pixel_values.to(device)\n",
    "        outputs = model(pixel_values=pixel_values)\n",
    "        emb = outputs.pooler_output\n",
    "        gallery_embeddings.append(emb.cpu().numpy())\n",
    "        gallery_paths.extend(paths)\n",
    "        \n",
    "        # Stampa timing ogni 10 batch\n",
    "        if i % 10 == 0:\n",
    "            print(f\"Batch {i}: {time.time() - start_time:.2f}s\")\n",
    "        \n",
    "        # Libera memoria GPU\n",
    "        del pixel_values, outputs, emb\n",
    "        torch.cuda.empty_cache() if torch.cuda.is_available() else None\n",
    "\n",
    "    # Extract query embeddings\n",
    "    print(\"Extracting query embeddings...\")\n",
    "    for i, (pixel_values, paths) in enumerate(tqdm(query_loader)):\n",
    "        start_time = time.time()\n",
    "        \n",
    "        pixel_values = pixel_values.to(device)\n",
    "        outputs = model(pixel_values=pixel_values)\n",
    "        emb = outputs.pooler_output\n",
    "        query_embeddings.append(emb.cpu().numpy())\n",
    "        query_paths.extend(paths)\n",
    "        \n",
    "        if i % 10 == 0:\n",
    "            print(f\"Batch {i}: {time.time() - start_time:.2f}s\")\n",
    "            \n",
    "        # Libera memoria GPU\n",
    "        del pixel_values, outputs, emb\n",
    "        torch.cuda.empty_cache() if torch.cuda.is_available() else None"
   ]
  },
  {
   "cell_type": "code",
   "execution_count": null,
   "id": "0813fef6",
   "metadata": {},
   "outputs": [],
   "source": [
    "# Stack all embedding batches into single numpy arrays\n",
    "gallery_embeddings = np.vstack(gallery_embeddings)  # shape: (N_gallery, D)\n",
    "query_embeddings = np.vstack(query_embeddings)      # shape: (N_query, D)\n",
    "\n",
    "# Compute cosine similarity between each query and all gallery embeddings\n",
    "similarity_matrix = cosine_similarity(query_embeddings, gallery_embeddings)\n",
    "\n",
    "# For each query, find the index of the most similar gallery image\n",
    "retrieved_indices = np.argmax(similarity_matrix, axis=1)\n",
    "\n",
    "top_k = 10\n",
    "top_k_indices = np.argsort(similarity_matrix, axis=1)[:, -top_k:][:, ::-1]\n",
    "\n",
    "# Build results dictionary in the required format\n",
    "results = {}\n",
    "\n",
    "for i, indices in enumerate(top_k_indices):\n",
    "    # Extract just the filename from the full path\n",
    "    query_filename = os.path.basename(query_paths[i])\n",
    "    \n",
    "    # Get the top-k gallery filenames\n",
    "    retrieved_filenames = [os.path.basename(gallery_paths[idx]) for idx in indices]\n",
    "    \n",
    "    results[query_filename] = retrieved_filenames\n",
    "\n",
    "# Save results to JSON file\n",
    "output_file = \"retrieval_results.json\"\n",
    "with open(output_file, 'w') as f:\n",
    "    json.dump(results, f, indent=2)\n",
    "\n",
    "print(f\"Results saved to {output_file}\")\n",
    "\n",
    "# Optional: Print a few examples to verify format\n",
    "print(\"\\nFirst 3 results:\")\n",
    "for i, (query, retrieved) in enumerate(results.items()):\n",
    "    if i >= 3:\n",
    "        break\n",
    "    print(f\"Query: {query}\")\n",
    "    print(f\"Top-3 Retrieved: {retrieved[:3]}\")\n",
    "    print(\"-\" * 50)"
   ]
  }
 ],
 "metadata": {
  "kernelspec": {
   "display_name": ".venv",
   "language": "python",
   "name": "python3"
  },
  "language_info": {
   "codemirror_mode": {
    "name": "ipython",
    "version": 3
   },
   "file_extension": ".py",
   "mimetype": "text/x-python",
   "name": "python",
   "nbconvert_exporter": "python",
   "pygments_lexer": "ipython3",
   "version": "3.12.9"
  }
 },
 "nbformat": 4,
 "nbformat_minor": 5
}
