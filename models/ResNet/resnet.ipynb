{
 "cells": [
  {
   "cell_type": "code",
   "execution_count": 34,
   "id": "50aa8dec",
   "metadata": {},
   "outputs": [],
   "source": [
    "import torch\n",
    "import torch.nn as nn\n",
    "from torchvision import models, datasets, transforms\n",
    "from torch.utils.data import DataLoader\n",
    "import torch.optim as optim\n",
    "from torch.utils.data import Dataset\n",
    "from PIL import Image\n",
    "import os"
   ]
  },
  {
   "cell_type": "code",
   "execution_count": 35,
   "id": "e6050b7e",
   "metadata": {},
   "outputs": [],
   "source": [
    "train_dir = '../../data/training'\n",
    "gallery_dir = '../../data/test/gallery'\n",
    "query_dir = '../../data/test/query'"
   ]
  },
  {
   "cell_type": "code",
   "execution_count": 32,
   "id": "2489371a",
   "metadata": {},
   "outputs": [],
   "source": [
    "class ImageOnlyDataset(Dataset):\n",
    "    def __init__(self, image_dir, transform=None):\n",
    "        self.image_dir = image_dir\n",
    "        self.image_paths = [os.path.join(image_dir, fname) for fname in os.listdir(image_dir)\n",
    "                            if fname.lower().endswith(('.png', '.jpg', '.jpeg'))]\n",
    "        self.transform = transform\n",
    "\n",
    "    def __len__(self):\n",
    "        return len(self.image_paths)\n",
    "\n",
    "    def __getitem__(self, idx):\n",
    "        img_path = self.image_paths[idx]\n",
    "        image = Image.open(img_path).convert(\"RGB\")\n",
    "        if self.transform:\n",
    "            image = self.transform(image)\n",
    "        return image, img_path  # Return path so you can match later\n"
   ]
  },
  {
   "cell_type": "code",
   "execution_count": null,
   "id": "ab72972b",
   "metadata": {},
   "outputs": [
    {
     "name": "stderr",
     "output_type": "stream",
     "text": [
      "/Users/anthony/Desktop/UniTrento/Courses/Second Semester/I2ML/I2ML_ImageClassifier/.conda/lib/python3.10/site-packages/tqdm/auto.py:21: TqdmWarning: IProgress not found. Please update jupyter and ipywidgets. See https://ipywidgets.readthedocs.io/en/stable/user_install.html\n",
      "  from .autonotebook import tqdm as notebook_tqdm\n"
     ]
    }
   ],
   "source": [
    "# import timm\n",
    "# model = timm.create_model(\"efficientnet_b0\", pretrained=True)"
   ]
  },
  {
   "cell_type": "code",
   "execution_count": 6,
   "id": "287e01c8",
   "metadata": {},
   "outputs": [
    {
     "name": "stderr",
     "output_type": "stream",
     "text": [
      "/Users/anthony/Desktop/UniTrento/Courses/Second Semester/I2ML/I2ML_ImageClassifier/.conda/lib/python3.10/site-packages/torchvision/models/_utils.py:208: UserWarning: The parameter 'pretrained' is deprecated since 0.13 and may be removed in the future, please use 'weights' instead.\n",
      "  warnings.warn(\n",
      "/Users/anthony/Desktop/UniTrento/Courses/Second Semester/I2ML/I2ML_ImageClassifier/.conda/lib/python3.10/site-packages/torchvision/models/_utils.py:223: UserWarning: Arguments other than a weight enum or `None` for 'weights' are deprecated since 0.13 and may be removed in the future. The current behavior is equivalent to passing `weights=ResNet18_Weights.IMAGENET1K_V1`. You can also use `weights=ResNet18_Weights.DEFAULT` to get the most up-to-date weights.\n",
      "  warnings.warn(msg)\n"
     ]
    },
    {
     "name": "stdout",
     "output_type": "stream",
     "text": [
      "Downloading: \"https://download.pytorch.org/models/resnet18-f37072fd.pth\" to /Users/anthony/.cache/torch/hub/checkpoints/resnet18-f37072fd.pth\n"
     ]
    },
    {
     "name": "stderr",
     "output_type": "stream",
     "text": [
      "100%|██████████| 44.7M/44.7M [00:05<00:00, 7.97MB/s]\n"
     ]
    }
   ],
   "source": [
    "# Load the pretrained ResNet-18 model\n",
    "model = models.resnet18(pretrained=True)"
   ]
  },
  {
   "cell_type": "code",
   "execution_count": 7,
   "id": "a52ba8bc",
   "metadata": {},
   "outputs": [],
   "source": [
    "# Modify the final fully connected layer for your dataset\n",
    "num_ftrs = model.fc.in_features  # Get the input features of the last layer\n",
    "model.fc = nn.Linear(num_ftrs, 2)  # For binary classification (change '2' to the number of classes in your dataset)"
   ]
  },
  {
   "cell_type": "code",
   "execution_count": 8,
   "id": "86429c53",
   "metadata": {},
   "outputs": [],
   "source": [
    "# If you want to fine-tune only the final layer, freeze the rest of the model:\n",
    "for param in model.parameters():\n",
    "    param.requires_grad = False\n",
    "# Only the last fully connected layer will be fine-tuned\n",
    "for param in model.fc.parameters():\n",
    "    param.requires_grad = True\n",
    "# Move the model to the GPU (if available)\n",
    "device = torch.device(\"mps\" if torch.mps.is_available() else \"cpu\")\n",
    "model = model.to(device)"
   ]
  },
  {
   "cell_type": "markdown",
   "id": "e028f1fd",
   "metadata": {},
   "source": [
    "# Data preparation"
   ]
  },
  {
   "cell_type": "markdown",
   "id": "a4bbb7b6",
   "metadata": {},
   "source": []
  },
  {
   "cell_type": "code",
   "execution_count": 9,
   "id": "d1d15a8f",
   "metadata": {},
   "outputs": [],
   "source": [
    "# Define the transformations: resize, normalize, and convert to tensor\n",
    "transform = transforms.Compose([\n",
    "    transforms.Resize((224, 224)),  # ResNet expects 224x224 input size\n",
    "    transforms.ToTensor(),\n",
    "    transforms.Normalize(mean=[0.485, 0.456, 0.406], std=[0.229, 0.224, 0.225])  # Pretrained ImageNet normalization\n",
    "])"
   ]
  },
  {
   "cell_type": "code",
   "execution_count": 21,
   "id": "08d34415",
   "metadata": {},
   "outputs": [],
   "source": [
    "# Load the dataset using ImageFolder\n",
    "train_dataset = datasets.ImageFolder(root = train_dir, transform=transform)\n",
    "# val_dataset = datasets.ImageFolder(root='/path/to/data/val', transform=transform)"
   ]
  },
  {
   "cell_type": "code",
   "execution_count": 36,
   "id": "fce0dbc1",
   "metadata": {},
   "outputs": [],
   "source": [
    "from torchvision import transforms\n",
    "from torch.utils.data import DataLoader\n",
    "\n",
    "transform = transforms.Compose([\n",
    "    transforms.Resize((224, 224)),\n",
    "    transforms.ToTensor(),\n",
    "    # normalize if you did during training\n",
    "])\n",
    "\n",
    "gallery_dataset = ImageOnlyDataset(gallery_dir, transform=transform)\n",
    "query_dataset = ImageOnlyDataset(query_dir, transform=transform)\n",
    "\n",
    "gallery_loader = DataLoader(gallery_dataset, batch_size=32, shuffle=False)\n",
    "query_loader = DataLoader(query_dataset, batch_size=32, shuffle=False)\n"
   ]
  },
  {
   "cell_type": "code",
   "execution_count": 11,
   "id": "8a80424a",
   "metadata": {},
   "outputs": [],
   "source": [
    "# Create DataLoader for batching\n",
    "train_loader = DataLoader(train_dataset, batch_size=32, shuffle=True)\n",
    "# val_loader = DataLoader(val_dataset, batch_size=32, shuffle=False)"
   ]
  },
  {
   "cell_type": "markdown",
   "id": "c2db6d90",
   "metadata": {},
   "source": [
    "# Model"
   ]
  },
  {
   "cell_type": "markdown",
   "id": "d0cad76c",
   "metadata": {},
   "source": []
  },
  {
   "cell_type": "code",
   "execution_count": 16,
   "id": "f034e0bd",
   "metadata": {},
   "outputs": [],
   "source": [
    "\n",
    "class ResNetEmbedding(nn.Module):\n",
    "    def __init__(self, resnet_model, embedding_dim):\n",
    "        super(ResNetEmbedding, self).__init__()\n",
    "        self.resnet = resnet_model\n",
    "\n",
    "        # Get the number of input features to the last fully connected layer\n",
    "        in_features = self.resnet.fc.in_features\n",
    "\n",
    "        # Replace the final fully connected layer with an identity layer\n",
    "        self.resnet.fc = nn.Identity()\n",
    "\n",
    "        # Define a new fully connected layer for embedding\n",
    "        self.fc = nn.Linear(in_features, embedding_dim)\n",
    "\n",
    "    def forward(self, x):\n",
    "        x = self.resnet(x)  # Forward pass through ResNet backbone (up to before the classification layer)\n",
    "        x = self.fc(x)      # Pass through the embedding layer\n",
    "        return x\n",
    "\n",
    "# Define the embedding dimension (e.g., 128)\n",
    "embedding_dim = 128\n",
    "\n",
    "# Load ResNet18 with pretrained weights\n",
    "model = models.resnet18(weights=\"IMAGENET1K_V1\")\n",
    "\n",
    "# Create the custom model\n",
    "model = ResNetEmbedding(model, embedding_dim)\n",
    "\n",
    "# Move to device (GPU or CPU)\n",
    "device = torch.device(\"mps\" if torch.mps.is_available() else \"cpu\")\n",
    "model = model.to(device)"
   ]
  },
  {
   "cell_type": "code",
   "execution_count": 25,
   "id": "1e3b6cfd",
   "metadata": {},
   "outputs": [],
   "source": [
    "import torch\n",
    "from torch.utils.data import Dataset\n",
    "import random\n",
    "from torchvision import datasets, transforms\n",
    "from PIL import Image\n",
    "\n",
    "class TripletDataset(Dataset):\n",
    "    def __init__(self, root_dir, transform=None):\n",
    "        \"\"\"\n",
    "        Args:\n",
    "            root_dir (string): Directory with all the class folders.\n",
    "            transform (callable, optional): Optional transform to be applied on an image.\n",
    "        \"\"\"\n",
    "        self.dataset = datasets.ImageFolder(root_dir, transform=transform)\n",
    "        self.transform = transform\n",
    "        self.class_to_idx = self.dataset.class_to_idx\n",
    "        self.imgs = self.dataset.imgs  # List of (image_path, class_index)\n",
    "        self.class_indices = {class_name: [] for class_name in self.class_to_idx.keys()}\n",
    "\n",
    "        for idx, (img_path, class_idx) in enumerate(self.imgs):\n",
    "            class_name = list(self.class_to_idx.keys())[list(self.class_to_idx.values()).index(class_idx)]\n",
    "            self.class_indices[class_name].append(idx)\n",
    "\n",
    "    def __len__(self):\n",
    "        return len(self.imgs)\n",
    "\n",
    "    def __getitem__(self, idx):\n",
    "        anchor_img_path, anchor_label = self.imgs[idx]\n",
    "        anchor_image = Image.open(anchor_img_path)\n",
    "\n",
    "        # Apply the transform (e.g., resizing, normalization)\n",
    "        if self.transform:\n",
    "            anchor_image = self.transform(anchor_image)\n",
    "\n",
    "        # Positive: A random image from the same class\n",
    "        positive_idx = random.choice(self.class_indices[list(self.class_to_idx.keys())[anchor_label]])\n",
    "        positive_img_path, positive_label = self.imgs[positive_idx]\n",
    "        positive_image = Image.open(positive_img_path)\n",
    "\n",
    "        if self.transform:\n",
    "            positive_image = self.transform(positive_image)\n",
    "\n",
    "        # Negative: A random image from a different class\n",
    "        negative_class = random.choice(list(self.class_to_idx.keys()))\n",
    "        while negative_class == list(self.class_to_idx.keys())[anchor_label]:  # Ensure it's not the same class\n",
    "            negative_class = random.choice(list(self.class_to_idx.keys()))\n",
    "\n",
    "        negative_idx = random.choice(self.class_indices[negative_class])\n",
    "        negative_img_path, negative_label = self.imgs[negative_idx]\n",
    "        negative_image = Image.open(negative_img_path)\n",
    "\n",
    "        if self.transform:\n",
    "            negative_image = self.transform(negative_image)\n",
    "\n",
    "        # Return the triplet\n",
    "        return anchor_image, positive_image, negative_image\n"
   ]
  },
  {
   "cell_type": "code",
   "execution_count": 30,
   "id": "d3a32ce2",
   "metadata": {},
   "outputs": [],
   "source": [
    "from torch.utils.data import DataLoader\n",
    "from torchvision import transforms\n",
    "\n",
    "# Define the transformation (resize, normalization, etc.)\n",
    "transform = transforms.Compose([\n",
    "    transforms.Resize((224, 224)),  # Adjust to your image size\n",
    "    transforms.ToTensor(),\n",
    "    transforms.Normalize(mean=[0.485, 0.456, 0.406], std=[0.229, 0.224, 0.225])  # Pretrained weights normalization\n",
    "])\n",
    "\n",
    "# Create the triplet dataset and DataLoader\n",
    "train_dataset = TripletDataset(root_dir=train_dir, transform=transform)\n",
    "train_loader = DataLoader(train_dataset, batch_size=32, shuffle=True, num_workers=0)\n",
    "\n",
    "# Now you can use this `train_loader` in your training loop\n"
   ]
  },
  {
   "cell_type": "code",
   "execution_count": 31,
   "id": "49867795",
   "metadata": {},
   "outputs": [
    {
     "name": "stdout",
     "output_type": "stream",
     "text": [
      "Epoch 1/10, Loss: 0.22736740112304688\n",
      "Epoch 2/10, Loss: 0.1052762046456337\n",
      "Epoch 3/10, Loss: 0.018141746520996094\n",
      "Epoch 4/10, Loss: 0.03136635571718216\n",
      "Epoch 5/10, Loss: 0.0\n",
      "Epoch 6/10, Loss: 0.7395499497652054\n",
      "Epoch 7/10, Loss: 0.12428782880306244\n",
      "Epoch 8/10, Loss: 0.14294615387916565\n",
      "Epoch 9/10, Loss: 0.007796823978424072\n",
      "Epoch 10/10, Loss: 0.14474797248840332\n"
     ]
    }
   ],
   "source": [
    "import torch.optim as optim\n",
    "import torch.nn.functional as F\n",
    "\n",
    "# Define the TripletMarginLoss (you can adjust the margin parameter)\n",
    "triplet_loss = nn.TripletMarginLoss(margin=1.0, p=2)\n",
    "\n",
    "# Set up the optimizer\n",
    "optimizer = optim.Adam(model.parameters(), lr=0.0001)\n",
    "\n",
    "# Training loop\n",
    "num_epochs = 10\n",
    "for epoch in range(num_epochs):\n",
    "    model.train()\n",
    "    running_loss = 0.0\n",
    "\n",
    "    for anchor, positive, negative in train_loader:\n",
    "        # Move the data to the GPU (if available)\n",
    "        anchor, positive, negative = anchor.to(device), positive.to(device), negative.to(device)\n",
    "\n",
    "        # Zero the gradients\n",
    "        optimizer.zero_grad()\n",
    "\n",
    "        # Get embeddings\n",
    "        anchor_emb = model(anchor)\n",
    "        positive_emb = model(positive)\n",
    "        negative_emb = model(negative)\n",
    "\n",
    "        # Compute the triplet loss\n",
    "        loss = triplet_loss(anchor_emb, positive_emb, negative_emb)\n",
    "        \n",
    "        # Backpropagate and optimize\n",
    "        loss.backward()\n",
    "        optimizer.step()\n",
    "\n",
    "        # Track the loss\n",
    "        running_loss += loss.item()\n",
    "\n",
    "    print(f\"Epoch {epoch+1}/{num_epochs}, Loss: {running_loss / len(train_loader)}\")\n"
   ]
  },
  {
   "cell_type": "code",
   "execution_count": 37,
   "id": "15c2d710",
   "metadata": {},
   "outputs": [],
   "source": [
    "model.eval()\n",
    "with torch.no_grad():\n",
    "    gallery_embeddings = []\n",
    "    query_embeddings = []\n",
    "    gallery_paths = []\n",
    "    query_paths = []\n",
    "\n",
    "    # Extract gallery embeddings\n",
    "    for images, paths in gallery_loader:\n",
    "        images = images.to(device)\n",
    "        emb = model(images)\n",
    "        gallery_embeddings.append(emb.cpu().numpy())\n",
    "        gallery_paths.extend(paths)\n",
    "\n",
    "    # Extract query embeddings\n",
    "    for images, paths in query_loader:\n",
    "        images = images.to(device)\n",
    "        emb = model(images)\n",
    "        query_embeddings.append(emb.cpu().numpy())\n",
    "        query_paths.extend(paths)"
   ]
  },
  {
   "cell_type": "code",
   "execution_count": 38,
   "id": "457ab238",
   "metadata": {},
   "outputs": [
    {
     "name": "stdout",
     "output_type": "stream",
     "text": [
      "Query image: ../../data/test/query/4597118805213184.jpg\n",
      "Retrieved gallery image: ../../data/test/gallery/painting_085_000118.jpg\n",
      "\n",
      "Query image: ../../data/test/query/n01855672_10973.jpg\n",
      "Retrieved gallery image: ../../data/test/gallery/n01855672_4393.jpg\n",
      "\n"
     ]
    }
   ],
   "source": [
    "# Convert to numpy arrays\n",
    "import numpy as np\n",
    "from sklearn.metrics.pairwise import cosine_similarity\n",
    "\n",
    "gallery_embeddings = np.vstack(gallery_embeddings)\n",
    "query_embeddings = np.vstack(query_embeddings)\n",
    "\n",
    "# Compute cosine similarity\n",
    "similarity_matrix = cosine_similarity(query_embeddings, gallery_embeddings)\n",
    "\n",
    "# For each query image, get the most similar gallery image\n",
    "retrieved_indices = np.argmax(similarity_matrix, axis=1)\n",
    "\n",
    "# Print results\n",
    "for i, idx in enumerate(retrieved_indices):\n",
    "    print(f\"Query image: {query_paths[i]}\")\n",
    "    print(f\"Retrieved gallery image: {gallery_paths[idx]}\")\n",
    "    print()"
   ]
  }
 ],
 "metadata": {
  "kernelspec": {
   "display_name": "Python 3",
   "language": "python",
   "name": "python3"
  },
  "language_info": {
   "codemirror_mode": {
    "name": "ipython",
    "version": 3
   },
   "file_extension": ".py",
   "mimetype": "text/x-python",
   "name": "python",
   "nbconvert_exporter": "python",
   "pygments_lexer": "ipython3",
   "version": "3.10.16"
  }
 },
 "nbformat": 4,
 "nbformat_minor": 5
}
